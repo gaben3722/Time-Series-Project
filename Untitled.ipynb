{
 "cells": [
  {
   "cell_type": "markdown",
   "id": "8660d18e",
   "metadata": {},
   "source": [
    "# Importing Dependencies"
   ]
  },
  {
   "cell_type": "code",
   "execution_count": 2,
   "id": "071c4bf2",
   "metadata": {},
   "outputs": [],
   "source": [
    "import numpy as np \n",
    "import pandas as pd \n",
    "import matplotlib.pyplot as plt \n",
    "import seaborn as sns\n",
    "import pandas_datareader\n",
    "import pandas_datareader.data as web\n",
    "import datetime\n",
    "from sklearn.preprocessing import MinMaxScaler\n",
    "from keras.models import Sequential\n",
    "from keras.layers import Dense,LSTM,Dropout\n",
    "%matplotlib inline"
   ]
  },
  {
   "cell_type": "code",
   "execution_count": 3,
   "id": "ef0fc41a",
   "metadata": {},
   "outputs": [],
   "source": [
    "start = datetime.datetime(2019,1,1)\n",
    "end = datetime.datetime.today()"
   ]
  },
  {
   "cell_type": "code",
   "execution_count": 7,
   "id": "4872a7bb",
   "metadata": {},
   "outputs": [
    {
     "data": {
      "text/html": [
       "<div>\n",
       "<style scoped>\n",
       "    .dataframe tbody tr th:only-of-type {\n",
       "        vertical-align: middle;\n",
       "    }\n",
       "\n",
       "    .dataframe tbody tr th {\n",
       "        vertical-align: top;\n",
       "    }\n",
       "\n",
       "    .dataframe thead th {\n",
       "        text-align: right;\n",
       "    }\n",
       "</style>\n",
       "<table border=\"1\" class=\"dataframe\">\n",
       "  <thead>\n",
       "    <tr style=\"text-align: right;\">\n",
       "      <th></th>\n",
       "      <th>High</th>\n",
       "      <th>Low</th>\n",
       "      <th>Open</th>\n",
       "      <th>Close</th>\n",
       "      <th>Volume</th>\n",
       "      <th>Adj Close</th>\n",
       "    </tr>\n",
       "    <tr>\n",
       "      <th>Date</th>\n",
       "      <th></th>\n",
       "      <th></th>\n",
       "      <th></th>\n",
       "      <th></th>\n",
       "      <th></th>\n",
       "      <th></th>\n",
       "    </tr>\n",
       "  </thead>\n",
       "  <tbody>\n",
       "    <tr>\n",
       "      <th>2019-01-02</th>\n",
       "      <td>155.750000</td>\n",
       "      <td>150.880005</td>\n",
       "      <td>150.990005</td>\n",
       "      <td>154.880005</td>\n",
       "      <td>58576700.0</td>\n",
       "      <td>152.012131</td>\n",
       "    </tr>\n",
       "    <tr>\n",
       "      <th>2019-01-03</th>\n",
       "      <td>153.259995</td>\n",
       "      <td>149.490005</td>\n",
       "      <td>152.600006</td>\n",
       "      <td>149.820007</td>\n",
       "      <td>74820200.0</td>\n",
       "      <td>147.045837</td>\n",
       "    </tr>\n",
       "    <tr>\n",
       "      <th>2019-01-04</th>\n",
       "      <td>157.000000</td>\n",
       "      <td>151.740005</td>\n",
       "      <td>152.339996</td>\n",
       "      <td>156.229996</td>\n",
       "      <td>74709300.0</td>\n",
       "      <td>153.337143</td>\n",
       "    </tr>\n",
       "    <tr>\n",
       "      <th>2019-01-07</th>\n",
       "      <td>158.860001</td>\n",
       "      <td>156.110001</td>\n",
       "      <td>156.619995</td>\n",
       "      <td>158.089996</td>\n",
       "      <td>52059300.0</td>\n",
       "      <td>155.162704</td>\n",
       "    </tr>\n",
       "    <tr>\n",
       "      <th>2019-01-08</th>\n",
       "      <td>160.110001</td>\n",
       "      <td>157.199997</td>\n",
       "      <td>159.539993</td>\n",
       "      <td>159.520004</td>\n",
       "      <td>49388700.0</td>\n",
       "      <td>156.566238</td>\n",
       "    </tr>\n",
       "  </tbody>\n",
       "</table>\n",
       "</div>"
      ],
      "text/plain": [
       "                  High         Low        Open       Close      Volume  \\\n",
       "Date                                                                     \n",
       "2019-01-02  155.750000  150.880005  150.990005  154.880005  58576700.0   \n",
       "2019-01-03  153.259995  149.490005  152.600006  149.820007  74820200.0   \n",
       "2019-01-04  157.000000  151.740005  152.339996  156.229996  74709300.0   \n",
       "2019-01-07  158.860001  156.110001  156.619995  158.089996  52059300.0   \n",
       "2019-01-08  160.110001  157.199997  159.539993  159.520004  49388700.0   \n",
       "\n",
       "             Adj Close  \n",
       "Date                    \n",
       "2019-01-02  152.012131  \n",
       "2019-01-03  147.045837  \n",
       "2019-01-04  153.337143  \n",
       "2019-01-07  155.162704  \n",
       "2019-01-08  156.566238  "
      ]
     },
     "execution_count": 7,
     "metadata": {},
     "output_type": "execute_result"
    }
   ],
   "source": [
    "QQQ = web.DataReader(\"QQQ\", \"yahoo\", start, end)\n",
    "QQQ.head()"
   ]
  },
  {
   "cell_type": "code",
   "execution_count": null,
   "id": "3a534b03",
   "metadata": {},
   "outputs": [],
   "source": []
  }
 ],
 "metadata": {
  "kernelspec": {
   "display_name": "Python 3",
   "language": "python",
   "name": "python3"
  },
  "language_info": {
   "codemirror_mode": {
    "name": "ipython",
    "version": 3
   },
   "file_extension": ".py",
   "mimetype": "text/x-python",
   "name": "python",
   "nbconvert_exporter": "python",
   "pygments_lexer": "ipython3",
   "version": "3.8.8"
  }
 },
 "nbformat": 4,
 "nbformat_minor": 5
}
